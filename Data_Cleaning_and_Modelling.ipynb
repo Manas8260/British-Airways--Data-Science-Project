{
 "cells": [
  {
   "cell_type": "code",
   "execution_count": 2,
   "id": "9cc46600-5c53-4b93-9714-31eb7080b782",
   "metadata": {},
   "outputs": [],
   "source": [
    "import pandas as pd \n",
    "import re"
   ]
  },
  {
   "cell_type": "code",
   "execution_count": 3,
   "id": "9ea52ab6-7c1c-486c-ab8c-21c7dda1f1a4",
   "metadata": {},
   "outputs": [],
   "source": [
    "df = pd.read_csv(\"data/ReviewsDATA.csv\")"
   ]
  },
  {
   "cell_type": "code",
   "execution_count": 4,
   "id": "65e6bf1e-01ba-4db8-b2a2-9a8a28379898",
   "metadata": {},
   "outputs": [
    {
     "data": {
      "text/html": [
       "<div>\n",
       "<style scoped>\n",
       "    .dataframe tbody tr th:only-of-type {\n",
       "        vertical-align: middle;\n",
       "    }\n",
       "\n",
       "    .dataframe tbody tr th {\n",
       "        vertical-align: top;\n",
       "    }\n",
       "\n",
       "    .dataframe thead th {\n",
       "        text-align: right;\n",
       "    }\n",
       "</style>\n",
       "<table border=\"1\" class=\"dataframe\">\n",
       "  <thead>\n",
       "    <tr style=\"text-align: right;\">\n",
       "      <th></th>\n",
       "      <th>Unnamed: 0</th>\n",
       "      <th>reviews</th>\n",
       "    </tr>\n",
       "  </thead>\n",
       "  <tbody>\n",
       "    <tr>\n",
       "      <th>0</th>\n",
       "      <td>0</td>\n",
       "      <td>✅ Trip Verified |   I had only 1 bag with me, ...</td>\n",
       "    </tr>\n",
       "    <tr>\n",
       "      <th>1</th>\n",
       "      <td>1</td>\n",
       "      <td>✅ Trip Verified | Check in and security at T5 ...</td>\n",
       "    </tr>\n",
       "    <tr>\n",
       "      <th>2</th>\n",
       "      <td>2</td>\n",
       "      <td>Not Verified |  LHR T5 BA Gold Wing worked wel...</td>\n",
       "    </tr>\n",
       "    <tr>\n",
       "      <th>3</th>\n",
       "      <td>3</td>\n",
       "      <td>Not Verified |  Very good service on this rout...</td>\n",
       "    </tr>\n",
       "    <tr>\n",
       "      <th>4</th>\n",
       "      <td>4</td>\n",
       "      <td>✅ Trip Verified |   Flight mainly let down by ...</td>\n",
       "    </tr>\n",
       "  </tbody>\n",
       "</table>\n",
       "</div>"
      ],
      "text/plain": [
       "   Unnamed: 0                                            reviews\n",
       "0           0  ✅ Trip Verified |   I had only 1 bag with me, ...\n",
       "1           1  ✅ Trip Verified | Check in and security at T5 ...\n",
       "2           2  Not Verified |  LHR T5 BA Gold Wing worked wel...\n",
       "3           3  Not Verified |  Very good service on this rout...\n",
       "4           4  ✅ Trip Verified |   Flight mainly let down by ..."
      ]
     },
     "execution_count": 4,
     "metadata": {},
     "output_type": "execute_result"
    }
   ],
   "source": [
    "df.head()"
   ]
  },
  {
   "cell_type": "code",
   "execution_count": 5,
   "id": "b53ad945-d501-48b2-9254-8011ecd87247",
   "metadata": {},
   "outputs": [
    {
     "data": {
      "text/plain": [
       "Index(['Unnamed: 0', 'reviews'], dtype='object')"
      ]
     },
     "execution_count": 5,
     "metadata": {},
     "output_type": "execute_result"
    }
   ],
   "source": [
    "df.columns"
   ]
  },
  {
   "cell_type": "code",
   "execution_count": 6,
   "id": "84332cd6-09cd-48d0-be0c-ca936adbdc58",
   "metadata": {},
   "outputs": [],
   "source": [
    "df.drop(\"Unnamed: 0\",axis = 1,inplace = True)"
   ]
  },
  {
   "cell_type": "code",
   "execution_count": 7,
   "id": "bde61eab-1d6e-4337-a075-edbd77344c2e",
   "metadata": {},
   "outputs": [
    {
     "data": {
      "text/html": [
       "<div>\n",
       "<style scoped>\n",
       "    .dataframe tbody tr th:only-of-type {\n",
       "        vertical-align: middle;\n",
       "    }\n",
       "\n",
       "    .dataframe tbody tr th {\n",
       "        vertical-align: top;\n",
       "    }\n",
       "\n",
       "    .dataframe thead th {\n",
       "        text-align: right;\n",
       "    }\n",
       "</style>\n",
       "<table border=\"1\" class=\"dataframe\">\n",
       "  <thead>\n",
       "    <tr style=\"text-align: right;\">\n",
       "      <th></th>\n",
       "      <th>reviews</th>\n",
       "    </tr>\n",
       "  </thead>\n",
       "  <tbody>\n",
       "    <tr>\n",
       "      <th>1842</th>\n",
       "      <td>✅ Verified Review |  London Heathrow to Vancou...</td>\n",
       "    </tr>\n",
       "  </tbody>\n",
       "</table>\n",
       "</div>"
      ],
      "text/plain": [
       "                                                reviews\n",
       "1842  ✅ Verified Review |  London Heathrow to Vancou..."
      ]
     },
     "execution_count": 7,
     "metadata": {},
     "output_type": "execute_result"
    }
   ],
   "source": [
    "df.sample()"
   ]
  },
  {
   "cell_type": "code",
   "execution_count": 8,
   "id": "b2ffa99e-6e6d-40d1-b2b5-fd8c762147db",
   "metadata": {},
   "outputs": [
    {
     "data": {
      "text/plain": [
       "'✅ Trip Verified |\\xa0 \\xa0I had only 1 bag with me, a carry on trolley. Everyone one in boarding group 3 & 4 were forced to check-in their trolley carry-ons. They asked to take out any laptops, batteries, etc.... The woman at the boarding gate was very rude to me as I was explaining to her that this was my only bag and had nowhere to carry my laptop or other stuff that I need onboard. I tried to explain to her that the bag will not withstand being carried in the hold as it is fragile and showed her a crack from the one time I checked it in before. The bag was visibly small complying with the carry-on bag measurements.'"
      ]
     },
     "execution_count": 8,
     "metadata": {},
     "output_type": "execute_result"
    }
   ],
   "source": [
    "s = df['reviews']\n",
    "s[0]"
   ]
  },
  {
   "cell_type": "code",
   "execution_count": 9,
   "id": "1cc41282-2d42-4790-b5e7-5de65cdd571c",
   "metadata": {},
   "outputs": [
    {
     "data": {
      "text/html": [
       "<div>\n",
       "<style scoped>\n",
       "    .dataframe tbody tr th:only-of-type {\n",
       "        vertical-align: middle;\n",
       "    }\n",
       "\n",
       "    .dataframe tbody tr th {\n",
       "        vertical-align: top;\n",
       "    }\n",
       "\n",
       "    .dataframe thead th {\n",
       "        text-align: right;\n",
       "    }\n",
       "</style>\n",
       "<table border=\"1\" class=\"dataframe\">\n",
       "  <thead>\n",
       "    <tr style=\"text-align: right;\">\n",
       "      <th></th>\n",
       "      <th>reviews</th>\n",
       "    </tr>\n",
       "  </thead>\n",
       "  <tbody>\n",
       "    <tr>\n",
       "      <th>1989</th>\n",
       "      <td>✅ Verified Review |  I am 73 years old. Was sc...</td>\n",
       "    </tr>\n",
       "  </tbody>\n",
       "</table>\n",
       "</div>"
      ],
      "text/plain": [
       "                                                reviews\n",
       "1989  ✅ Verified Review |  I am 73 years old. Was sc..."
      ]
     },
     "execution_count": 9,
     "metadata": {},
     "output_type": "execute_result"
    }
   ],
   "source": [
    "df.sample()"
   ]
  },
  {
   "cell_type": "code",
   "execution_count": 10,
   "id": "55c482eb-9517-42a2-8f9a-972637a5f4ce",
   "metadata": {},
   "outputs": [],
   "source": [
    "ver = \"✅\"\n",
    "l =[]\n",
    "arr = df['reviews']\n",
    "for i in arr:\n",
    "    if ver in i:\n",
    "        l.append(1)\n",
    "    else:\n",
    "        l.append(0)\n",
    "        \n",
    "df['verified trip'] = l"
   ]
  },
  {
   "cell_type": "code",
   "execution_count": 11,
   "id": "61c15809-ec09-408c-8b74-a76832afa6e8",
   "metadata": {},
   "outputs": [
    {
     "data": {
      "text/html": [
       "<div>\n",
       "<style scoped>\n",
       "    .dataframe tbody tr th:only-of-type {\n",
       "        vertical-align: middle;\n",
       "    }\n",
       "\n",
       "    .dataframe tbody tr th {\n",
       "        vertical-align: top;\n",
       "    }\n",
       "\n",
       "    .dataframe thead th {\n",
       "        text-align: right;\n",
       "    }\n",
       "</style>\n",
       "<table border=\"1\" class=\"dataframe\">\n",
       "  <thead>\n",
       "    <tr style=\"text-align: right;\">\n",
       "      <th></th>\n",
       "      <th>reviews</th>\n",
       "      <th>verified trip</th>\n",
       "    </tr>\n",
       "  </thead>\n",
       "  <tbody>\n",
       "    <tr>\n",
       "      <th>2103</th>\n",
       "      <td>✅ Verified Review | Glasgow to London Gatwick ...</td>\n",
       "      <td>1</td>\n",
       "    </tr>\n",
       "    <tr>\n",
       "      <th>1014</th>\n",
       "      <td>✅ Trip Verified | My flight was cancelled 3 da...</td>\n",
       "      <td>1</td>\n",
       "    </tr>\n",
       "    <tr>\n",
       "      <th>1938</th>\n",
       "      <td>✅ Verified Review |  Punta Cana to Gatwick ret...</td>\n",
       "      <td>1</td>\n",
       "    </tr>\n",
       "    <tr>\n",
       "      <th>708</th>\n",
       "      <td>✅ Trip Verified |  Extremely disappointed In t...</td>\n",
       "      <td>1</td>\n",
       "    </tr>\n",
       "    <tr>\n",
       "      <th>635</th>\n",
       "      <td>✅ Trip Verified |  The short haul flights were...</td>\n",
       "      <td>1</td>\n",
       "    </tr>\n",
       "    <tr>\n",
       "      <th>2186</th>\n",
       "      <td>✅ Verified Review |  London Heathrow to Zurich...</td>\n",
       "      <td>1</td>\n",
       "    </tr>\n",
       "    <tr>\n",
       "      <th>2043</th>\n",
       "      <td>✅ Verified Review |  Accra to London Heathrow ...</td>\n",
       "      <td>1</td>\n",
       "    </tr>\n",
       "    <tr>\n",
       "      <th>261</th>\n",
       "      <td>Not Verified |  Booked a very special holiday ...</td>\n",
       "      <td>0</td>\n",
       "    </tr>\n",
       "    <tr>\n",
       "      <th>296</th>\n",
       "      <td>✅ Trip Verified |   Chaos at Terminal 5 with B...</td>\n",
       "      <td>1</td>\n",
       "    </tr>\n",
       "    <tr>\n",
       "      <th>1460</th>\n",
       "      <td>✅ Trip Verified |  Madrid to London. The main ...</td>\n",
       "      <td>1</td>\n",
       "    </tr>\n",
       "  </tbody>\n",
       "</table>\n",
       "</div>"
      ],
      "text/plain": [
       "                                                reviews  verified trip\n",
       "2103  ✅ Verified Review | Glasgow to London Gatwick ...              1\n",
       "1014  ✅ Trip Verified | My flight was cancelled 3 da...              1\n",
       "1938  ✅ Verified Review |  Punta Cana to Gatwick ret...              1\n",
       "708   ✅ Trip Verified |  Extremely disappointed In t...              1\n",
       "635   ✅ Trip Verified |  The short haul flights were...              1\n",
       "2186  ✅ Verified Review |  London Heathrow to Zurich...              1\n",
       "2043  ✅ Verified Review |  Accra to London Heathrow ...              1\n",
       "261   Not Verified |  Booked a very special holiday ...              0\n",
       "296   ✅ Trip Verified |   Chaos at Terminal 5 with B...              1\n",
       "1460  ✅ Trip Verified |  Madrid to London. The main ...              1"
      ]
     },
     "execution_count": 11,
     "metadata": {},
     "output_type": "execute_result"
    }
   ],
   "source": [
    "df.sample(10)"
   ]
  },
  {
   "cell_type": "code",
   "execution_count": null,
   "id": "4ae0dacc-a5a4-49c3-90c1-7d8c5e710bb1",
   "metadata": {},
   "outputs": [],
   "source": []
  },
  {
   "cell_type": "code",
   "execution_count": 12,
   "id": "6c33e09e-6dc0-4383-88be-fbedac64cbbc",
   "metadata": {},
   "outputs": [
    {
     "data": {
      "text/plain": [
       "10062"
      ]
     },
     "execution_count": 12,
     "metadata": {},
     "output_type": "execute_result"
    }
   ],
   "source": [
    "s = \"❎\"\n",
    "ord(s)"
   ]
  },
  {
   "cell_type": "code",
   "execution_count": 13,
   "id": "a317e2f9-bae4-4f85-ab59-58c78e5f0e5c",
   "metadata": {},
   "outputs": [],
   "source": [
    "#df['reviews'] = rr"
   ]
  },
  {
   "cell_type": "code",
   "execution_count": 14,
   "id": "a1ba12c1-77ff-4e0f-b240-024cb51e5696",
   "metadata": {},
   "outputs": [
    {
     "data": {
      "text/html": [
       "<div>\n",
       "<style scoped>\n",
       "    .dataframe tbody tr th:only-of-type {\n",
       "        vertical-align: middle;\n",
       "    }\n",
       "\n",
       "    .dataframe tbody tr th {\n",
       "        vertical-align: top;\n",
       "    }\n",
       "\n",
       "    .dataframe thead th {\n",
       "        text-align: right;\n",
       "    }\n",
       "</style>\n",
       "<table border=\"1\" class=\"dataframe\">\n",
       "  <thead>\n",
       "    <tr style=\"text-align: right;\">\n",
       "      <th></th>\n",
       "      <th>reviews</th>\n",
       "      <th>verified trip</th>\n",
       "    </tr>\n",
       "  </thead>\n",
       "  <tbody>\n",
       "    <tr>\n",
       "      <th>1907</th>\n",
       "      <td>✅ Verified Review |  Flew London Heathrow to V...</td>\n",
       "      <td>1</td>\n",
       "    </tr>\n",
       "    <tr>\n",
       "      <th>1318</th>\n",
       "      <td>✅ Trip Verified |  London Heathrow to New York...</td>\n",
       "      <td>1</td>\n",
       "    </tr>\n",
       "    <tr>\n",
       "      <th>394</th>\n",
       "      <td>✅ Trip Verified | Had the worst experience. Th...</td>\n",
       "      <td>1</td>\n",
       "    </tr>\n",
       "    <tr>\n",
       "      <th>1024</th>\n",
       "      <td>✅ Trip Verified |  London to Glasgow. BA custo...</td>\n",
       "      <td>1</td>\n",
       "    </tr>\n",
       "    <tr>\n",
       "      <th>840</th>\n",
       "      <td>✅ Trip Verified |  London Heathrow to Nairobi....</td>\n",
       "      <td>1</td>\n",
       "    </tr>\n",
       "  </tbody>\n",
       "</table>\n",
       "</div>"
      ],
      "text/plain": [
       "                                                reviews  verified trip\n",
       "1907  ✅ Verified Review |  Flew London Heathrow to V...              1\n",
       "1318  ✅ Trip Verified |  London Heathrow to New York...              1\n",
       "394   ✅ Trip Verified | Had the worst experience. Th...              1\n",
       "1024  ✅ Trip Verified |  London to Glasgow. BA custo...              1\n",
       "840   ✅ Trip Verified |  London Heathrow to Nairobi....              1"
      ]
     },
     "execution_count": 14,
     "metadata": {},
     "output_type": "execute_result"
    }
   ],
   "source": [
    "df.sample(5)"
   ]
  },
  {
   "cell_type": "code",
   "execution_count": 15,
   "id": "112984bd-5ab2-457b-b290-85746cf31e2f",
   "metadata": {},
   "outputs": [],
   "source": [
    "import re\n",
    "ptn = r'([\\D]+ \\|)'\n",
    "r = df['reviews']\n",
    "l = []\n",
    "for i in r:\n",
    "    #re.search(ptn,i)\n",
    "    ll = re.findall(ptn,i)\n",
    "    l.append(ll)"
   ]
  },
  {
   "cell_type": "code",
   "execution_count": 16,
   "id": "3a75c380-2dd6-4386-ac62-727b696b6956",
   "metadata": {},
   "outputs": [
    {
     "name": "stdout",
     "output_type": "stream",
     "text": [
      "[['✅ Trip Verified |'], ['✅ Trip Verified |'], ['✅ Trip Verified |'], ['✅ Trip Verified |'], ['Not Verified |'], ['✅ Trip Verified |'], ['Not Verified |'], ['✅ Trip Verified |'], ['✅ Trip Verified |'], ['Not Verified |'], ['✅ Trip Verified |'], ['Not Verified |'], ['cNot Verified |'], ['✅ Trip Verified |'], ['✅ Trip Verified |'], ['✅ Trip Verified |'], ['✅ Trip Verified |'], ['✅ Trip Verified |'], ['✅ Trip Verified |'], ['✅ Trip Verified |']]\n"
     ]
    }
   ],
   "source": [
    "print(l[200:220])"
   ]
  },
  {
   "cell_type": "code",
   "execution_count": 17,
   "id": "66bfab74-4535-4c6e-9ba4-c998849bf204",
   "metadata": {},
   "outputs": [],
   "source": [
    "rep = []\n",
    "for i in r:\n",
    "    i = re.sub(ptn,'',i)\n",
    "    i.strip()\n",
    "    rep.append(i)"
   ]
  },
  {
   "cell_type": "code",
   "execution_count": 18,
   "id": "31195bd0-d568-4d5a-b83f-960fda8ae892",
   "metadata": {},
   "outputs": [
    {
     "name": "stdout",
     "output_type": "stream",
     "text": [
      "2250\n"
     ]
    }
   ],
   "source": [
    "print(len(rep))"
   ]
  },
  {
   "cell_type": "code",
   "execution_count": 19,
   "id": "be1b84d9-25eb-4a7a-9f28-a78e71be1fdf",
   "metadata": {},
   "outputs": [],
   "source": [
    "df['reviews'] = rep"
   ]
  },
  {
   "cell_type": "code",
   "execution_count": 20,
   "id": "d8d6fd25-0510-4bc1-87f1-fb9cad89964b",
   "metadata": {},
   "outputs": [
    {
     "data": {
      "text/html": [
       "<div>\n",
       "<style scoped>\n",
       "    .dataframe tbody tr th:only-of-type {\n",
       "        vertical-align: middle;\n",
       "    }\n",
       "\n",
       "    .dataframe tbody tr th {\n",
       "        vertical-align: top;\n",
       "    }\n",
       "\n",
       "    .dataframe thead th {\n",
       "        text-align: right;\n",
       "    }\n",
       "</style>\n",
       "<table border=\"1\" class=\"dataframe\">\n",
       "  <thead>\n",
       "    <tr style=\"text-align: right;\">\n",
       "      <th></th>\n",
       "      <th>reviews</th>\n",
       "      <th>verified trip</th>\n",
       "    </tr>\n",
       "  </thead>\n",
       "  <tbody>\n",
       "    <tr>\n",
       "      <th>0</th>\n",
       "      <td>I had only 1 bag with me, a carry on trolle...</td>\n",
       "      <td>1</td>\n",
       "    </tr>\n",
       "    <tr>\n",
       "      <th>1</th>\n",
       "      <td>Check in and security at T5 quick. Both Galle...</td>\n",
       "      <td>1</td>\n",
       "    </tr>\n",
       "    <tr>\n",
       "      <th>2</th>\n",
       "      <td>LHR T5 BA Gold Wing worked well. Pleasant ch...</td>\n",
       "      <td>0</td>\n",
       "    </tr>\n",
       "    <tr>\n",
       "      <th>3</th>\n",
       "      <td>Very good service on this route BA2710 30th ...</td>\n",
       "      <td>0</td>\n",
       "    </tr>\n",
       "    <tr>\n",
       "      <th>4</th>\n",
       "      <td>Flight mainly let down by a disagreeable fl...</td>\n",
       "      <td>1</td>\n",
       "    </tr>\n",
       "    <tr>\n",
       "      <th>...</th>\n",
       "      <td>...</td>\n",
       "      <td>...</td>\n",
       "    </tr>\n",
       "    <tr>\n",
       "      <th>2245</th>\n",
       "      <td>We'd booked to fly Club World 4 months ago. ...</td>\n",
       "      <td>1</td>\n",
       "    </tr>\n",
       "    <tr>\n",
       "      <th>2246</th>\n",
       "      <td>Our flight from London to Boston was okay. Dis...</td>\n",
       "      <td>0</td>\n",
       "    </tr>\n",
       "    <tr>\n",
       "      <th>2247</th>\n",
       "      <td>London Gatwick to Valencia with British Airway...</td>\n",
       "      <td>0</td>\n",
       "    </tr>\n",
       "    <tr>\n",
       "      <th>2248</th>\n",
       "      <td>London to Seville via Madrid. If you want budg...</td>\n",
       "      <td>0</td>\n",
       "    </tr>\n",
       "    <tr>\n",
       "      <th>2249</th>\n",
       "      <td>British Airways state that you can check in fo...</td>\n",
       "      <td>0</td>\n",
       "    </tr>\n",
       "  </tbody>\n",
       "</table>\n",
       "<p>2250 rows × 2 columns</p>\n",
       "</div>"
      ],
      "text/plain": [
       "                                                reviews  verified trip\n",
       "0        I had only 1 bag with me, a carry on trolle...              1\n",
       "1      Check in and security at T5 quick. Both Galle...              1\n",
       "2       LHR T5 BA Gold Wing worked well. Pleasant ch...              0\n",
       "3       Very good service on this route BA2710 30th ...              0\n",
       "4        Flight mainly let down by a disagreeable fl...              1\n",
       "...                                                 ...            ...\n",
       "2245    We'd booked to fly Club World 4 months ago. ...              1\n",
       "2246  Our flight from London to Boston was okay. Dis...              0\n",
       "2247  London Gatwick to Valencia with British Airway...              0\n",
       "2248  London to Seville via Madrid. If you want budg...              0\n",
       "2249  British Airways state that you can check in fo...              0\n",
       "\n",
       "[2250 rows x 2 columns]"
      ]
     },
     "execution_count": 20,
     "metadata": {},
     "output_type": "execute_result"
    }
   ],
   "source": [
    "df"
   ]
  },
  {
   "cell_type": "code",
   "execution_count": 21,
   "id": "017bbbae-d7f1-4b8f-be76-9cb6bed460e6",
   "metadata": {},
   "outputs": [],
   "source": [
    "import matplotlib.pyplot as plt\n",
    "import seaborn as sns\n",
    "%matplotlib inline"
   ]
  },
  {
   "cell_type": "code",
   "execution_count": 22,
   "id": "10ee6289-d453-4af1-9ee8-ca92fe1d502f",
   "metadata": {},
   "outputs": [
    {
     "data": {
      "text/plain": [
       "\"plt.figure(figsize=(5,4))\\np = sns.countplot(x = 'verified trip',data = df,palette = 'flare',hue = 'verified trip',legend = False)\\nfor i in p.containers:\\n    p.bar_label(i)\\nplt.show()\""
      ]
     },
     "execution_count": 22,
     "metadata": {},
     "output_type": "execute_result"
    }
   ],
   "source": [
    "'''plt.figure(figsize=(5,4))\n",
    "p = sns.countplot(x = 'verified trip',data = df,palette = 'flare',hue = 'verified trip',legend = False)\n",
    "for i in p.containers:\n",
    "    p.bar_label(i)\n",
    "plt.show()'''"
   ]
  },
  {
   "cell_type": "code",
   "execution_count": 24,
   "id": "dd43ed1e-f0e8-48dd-bc14-e71810dd66e0",
   "metadata": {},
   "outputs": [
    {
     "data": {
      "text/plain": [
       "'\\xa0 \\xa0This time British Airways managed to get everything right. The price of the tickets was reasonable and the timing was perfect. Boarding was smooth and the seats were comfortable – easy reline to enable dozing and sufficient pitch to get in and out. The table was firm enough to allow the use of a small laptop and mouse. A pre-flight soft drink or Prosecco was offered and both the food and drink were more than sufficient. The best part was the cabin crew – two in PE and they were both extremely efficient, pleasant and witty. There was a good selection of movies and both the screen and the headset worked perfectly.'"
      ]
     },
     "execution_count": 24,
     "metadata": {},
     "output_type": "execute_result"
    }
   ],
   "source": [
    "df['reviews'][8]"
   ]
  },
  {
   "cell_type": "code",
   "execution_count": 25,
   "id": "a47d0bdf-1a9a-442d-aea6-f922d79ca3f1",
   "metadata": {},
   "outputs": [
    {
     "data": {
      "text/plain": [
       "'\\xa0 \\xa0'"
      ]
     },
     "execution_count": 25,
     "metadata": {},
     "output_type": "execute_result"
    }
   ],
   "source": [
    "s = '\\xa0 \\xa0'\n",
    "s"
   ]
  },
  {
   "cell_type": "code",
   "execution_count": 26,
   "id": "b37d077b-c345-4e3a-b2cf-d5a3de6e0445",
   "metadata": {},
   "outputs": [],
   "source": [
    "r = df['reviews']\n",
    "l = []\n",
    "s = '\\xa0 \\xa0'\n",
    "for i in r:\n",
    "    i = re.sub(s,'',i)\n",
    "    i = re.sub('\\n','',i)\n",
    "    i = re.sub('\\r','',i)\n",
    "    i.strip()\n",
    "    l.append(i)"
   ]
  },
  {
   "cell_type": "code",
   "execution_count": 27,
   "id": "5506a688-eff3-49e3-918b-38d70850dc20",
   "metadata": {},
   "outputs": [
    {
     "data": {
      "text/plain": [
       "2250"
      ]
     },
     "execution_count": 27,
     "metadata": {},
     "output_type": "execute_result"
    }
   ],
   "source": [
    "len(l)"
   ]
  },
  {
   "cell_type": "code",
   "execution_count": 28,
   "id": "349e23d4-7215-40b1-80da-d54b7a453d5e",
   "metadata": {},
   "outputs": [],
   "source": [
    "df['reviews'] = l"
   ]
  },
  {
   "cell_type": "code",
   "execution_count": 29,
   "id": "ebf5d4f3-03a4-4918-b3df-ed35383e3c4e",
   "metadata": {},
   "outputs": [
    {
     "data": {
      "text/plain": [
       "'  I’ve generally been a loyal Gold status flyer with BA if they fly the route I’m after but my recent flight to Nairobi was about as abysmal as you can get. We should have departed at 10:20 but after continuous delays finally left 4.5 hours late, not ideal when you’ve then got an 8hr + flight. Staff informed us virtually as we took off that the meal and drinks service would be started and completed asap as they needed to get rest because of hours we had been delayed. They couldn’t get it out and away quickly enough. That was then basically the last you saw of them until they came around an hour or so before landing. I sincerely hope they enjoyed their rest because when you pay full fare for business class service you actually expect a service. They were all extremely miserable and clearly didn’t want to be on board. We’re still waiting for you to pay our compensation that has been awarded to us by the official ombudsman in July for the cancellation of our flight to Miami in March. This was cancelled at 3am for the 2:30 pm flight !'"
      ]
     },
     "execution_count": 29,
     "metadata": {},
     "output_type": "execute_result"
    }
   ],
   "source": [
    "df['reviews'][516]"
   ]
  },
  {
   "cell_type": "code",
   "execution_count": 30,
   "id": "2dc6e6b9-45e7-4484-9e23-2795ae5897db",
   "metadata": {},
   "outputs": [],
   "source": [
    "#df.to_csv('data/BA_Cleaned_review.csv')"
   ]
  },
  {
   "cell_type": "code",
   "execution_count": 31,
   "id": "a37b70c9-aa55-4b38-b77e-3d99809078a3",
   "metadata": {},
   "outputs": [
    {
     "data": {
      "text/plain": [
       "reviews          0\n",
       "verified trip    0\n",
       "dtype: int64"
      ]
     },
     "execution_count": 31,
     "metadata": {},
     "output_type": "execute_result"
    }
   ],
   "source": [
    "df.isna().sum()"
   ]
  },
  {
   "cell_type": "markdown",
   "id": "1a4cc9fb-3acb-475f-adf0-98db2c6dd6c6",
   "metadata": {},
   "source": [
    "# Sentiment Analysis(using vaderSentiment)"
   ]
  },
  {
   "cell_type": "code",
   "execution_count": 32,
   "id": "65ba66fd-2002-42d9-be16-cfa30ab0cbe0",
   "metadata": {},
   "outputs": [],
   "source": [
    "from vaderSentiment.vaderSentiment import SentimentIntensityAnalyzer#SIA\n",
    "analyzer = SentimentIntensityAnalyzer()\n",
    "\n",
    "rev = df['reviews']\n",
    "sen_lst =[]\n",
    "sc = []\n",
    "sentis =['very-positive','positive','neutral','negative','very-negative']\n",
    "for text in rev:\n",
    "    scores = analyzer.polarity_scores(text) \n",
    "    overall_sc = scores['compound']\n",
    "    sc.append(overall_sc)\n",
    "    if overall_sc < -0.5:\n",
    "        sen_lst.append(sentis[-1])        \n",
    "    elif overall_sc >= -0.5 and overall_sc < 0:\n",
    "        sen_lst.append(sentis[-2])\n",
    "    elif overall_sc > 0 and overall_sc <= 0.5:\n",
    "        sen_lst.append(sentis[-4])\n",
    "    elif overall_sc > 0.5:\n",
    "        sen_lst.append(sentis[-5])\n",
    "    elif overall_sc == 0:\n",
    "        sen_lst.append(sentis[-3])"
   ]
  },
  {
   "cell_type": "code",
   "execution_count": 33,
   "id": "4e4908a7-d808-4016-9200-9bb3c3078ab8",
   "metadata": {},
   "outputs": [],
   "source": [
    "df['sentiments'] = sen_lst"
   ]
  },
  {
   "cell_type": "code",
   "execution_count": 34,
   "id": "04339fdf-2a68-4ae2-97fd-467a37187eab",
   "metadata": {},
   "outputs": [],
   "source": [
    "#del df['senti-score']"
   ]
  },
  {
   "cell_type": "code",
   "execution_count": 35,
   "id": "68e52d9d-28ec-4514-b9b1-abbd03f9b15d",
   "metadata": {},
   "outputs": [],
   "source": [
    "#df['senti-score'] = sc"
   ]
  },
  {
   "cell_type": "code",
   "execution_count": 36,
   "id": "75ee7d25-92d0-4c93-922a-2000dec5eb21",
   "metadata": {
    "scrolled": true
   },
   "outputs": [
    {
     "data": {
      "text/html": [
       "<div>\n",
       "<style scoped>\n",
       "    .dataframe tbody tr th:only-of-type {\n",
       "        vertical-align: middle;\n",
       "    }\n",
       "\n",
       "    .dataframe tbody tr th {\n",
       "        vertical-align: top;\n",
       "    }\n",
       "\n",
       "    .dataframe thead th {\n",
       "        text-align: right;\n",
       "    }\n",
       "</style>\n",
       "<table border=\"1\" class=\"dataframe\">\n",
       "  <thead>\n",
       "    <tr style=\"text-align: right;\">\n",
       "      <th></th>\n",
       "      <th>reviews</th>\n",
       "      <th>verified trip</th>\n",
       "      <th>sentiments</th>\n",
       "    </tr>\n",
       "  </thead>\n",
       "  <tbody>\n",
       "    <tr>\n",
       "      <th>979</th>\n",
       "      <td>We have had some torrid experiences with BA -...</td>\n",
       "      <td>0</td>\n",
       "      <td>very-positive</td>\n",
       "    </tr>\n",
       "    <tr>\n",
       "      <th>2096</th>\n",
       "      <td>We flew British Airways from Lisbon to San J...</td>\n",
       "      <td>1</td>\n",
       "      <td>very-positive</td>\n",
       "    </tr>\n",
       "    <tr>\n",
       "      <th>1352</th>\n",
       "      <td>Bad service and attitude all round. My fiasc...</td>\n",
       "      <td>1</td>\n",
       "      <td>very-negative</td>\n",
       "    </tr>\n",
       "    <tr>\n",
       "      <th>543</th>\n",
       "      <td>Flight was cancelled at the last minute due ...</td>\n",
       "      <td>0</td>\n",
       "      <td>very-negative</td>\n",
       "    </tr>\n",
       "    <tr>\n",
       "      <th>568</th>\n",
       "      <td>Over 1 week ago I cancelled 2 Club Europe fl...</td>\n",
       "      <td>1</td>\n",
       "      <td>positive</td>\n",
       "    </tr>\n",
       "    <tr>\n",
       "      <th>1250</th>\n",
       "      <td>Johannesburg to London . For supper I asked ...</td>\n",
       "      <td>1</td>\n",
       "      <td>very-positive</td>\n",
       "    </tr>\n",
       "    <tr>\n",
       "      <th>1783</th>\n",
       "      <td>London to Keflavik. The British Airways expe...</td>\n",
       "      <td>1</td>\n",
       "      <td>very-positive</td>\n",
       "    </tr>\n",
       "    <tr>\n",
       "      <th>91</th>\n",
       "      <td>My family and I were booked to leave London...</td>\n",
       "      <td>1</td>\n",
       "      <td>very-negative</td>\n",
       "    </tr>\n",
       "    <tr>\n",
       "      <th>1577</th>\n",
       "      <td>I was quite disappointed with my experience w...</td>\n",
       "      <td>1</td>\n",
       "      <td>very-negative</td>\n",
       "    </tr>\n",
       "    <tr>\n",
       "      <th>916</th>\n",
       "      <td>London to Sydney via Singapore. I would like ...</td>\n",
       "      <td>0</td>\n",
       "      <td>very-positive</td>\n",
       "    </tr>\n",
       "  </tbody>\n",
       "</table>\n",
       "</div>"
      ],
      "text/plain": [
       "                                                reviews  verified trip  \\\n",
       "979    We have had some torrid experiences with BA -...              0   \n",
       "2096    We flew British Airways from Lisbon to San J...              1   \n",
       "1352    Bad service and attitude all round. My fiasc...              1   \n",
       "543     Flight was cancelled at the last minute due ...              0   \n",
       "568     Over 1 week ago I cancelled 2 Club Europe fl...              1   \n",
       "1250    Johannesburg to London . For supper I asked ...              1   \n",
       "1783    London to Keflavik. The British Airways expe...              1   \n",
       "91       My family and I were booked to leave London...              1   \n",
       "1577   I was quite disappointed with my experience w...              1   \n",
       "916    London to Sydney via Singapore. I would like ...              0   \n",
       "\n",
       "         sentiments  \n",
       "979   very-positive  \n",
       "2096  very-positive  \n",
       "1352  very-negative  \n",
       "543   very-negative  \n",
       "568        positive  \n",
       "1250  very-positive  \n",
       "1783  very-positive  \n",
       "91    very-negative  \n",
       "1577  very-negative  \n",
       "916   very-positive  "
      ]
     },
     "execution_count": 36,
     "metadata": {},
     "output_type": "execute_result"
    }
   ],
   "source": [
    "df.sample(10)"
   ]
  },
  {
   "cell_type": "code",
   "execution_count": 37,
   "id": "f59cfa56-db91-4d63-b1e7-29781a74d5f9",
   "metadata": {},
   "outputs": [
    {
     "data": {
      "text/plain": [
       "323"
      ]
     },
     "execution_count": 37,
     "metadata": {},
     "output_type": "execute_result"
    }
   ],
   "source": [
    "s = df['reviews'][1317]\n",
    "len(s.split())"
   ]
  },
  {
   "cell_type": "code",
   "execution_count": 38,
   "id": "3c22ccdb-5399-4687-8701-57278d9798b8",
   "metadata": {},
   "outputs": [
    {
     "data": {
      "text/plain": [
       "array(['very-negative', 'very-positive', 'negative', 'neutral',\n",
       "       'positive'], dtype=object)"
      ]
     },
     "execution_count": 38,
     "metadata": {},
     "output_type": "execute_result"
    }
   ],
   "source": [
    "df['sentiments'].unique()"
   ]
  },
  {
   "cell_type": "code",
   "execution_count": 39,
   "id": "c3c1cd0f-bf78-44c3-8bde-9d20b9770fcd",
   "metadata": {},
   "outputs": [
    {
     "data": {
      "text/plain": [
       "sentiments\n",
       "very-positive    951\n",
       "very-negative    877\n",
       "negative         225\n",
       "positive         188\n",
       "neutral            9\n",
       "Name: count, dtype: int64"
      ]
     },
     "execution_count": 39,
     "metadata": {},
     "output_type": "execute_result"
    }
   ],
   "source": [
    "df['sentiments'].value_counts()"
   ]
  },
  {
   "cell_type": "code",
   "execution_count": 40,
   "id": "580de481-88d6-47dc-ad53-e64705ae19a9",
   "metadata": {},
   "outputs": [
    {
     "data": {
      "text/html": [
       "<div>\n",
       "<style scoped>\n",
       "    .dataframe tbody tr th:only-of-type {\n",
       "        vertical-align: middle;\n",
       "    }\n",
       "\n",
       "    .dataframe tbody tr th {\n",
       "        vertical-align: top;\n",
       "    }\n",
       "\n",
       "    .dataframe thead th {\n",
       "        text-align: right;\n",
       "    }\n",
       "</style>\n",
       "<table border=\"1\" class=\"dataframe\">\n",
       "  <thead>\n",
       "    <tr style=\"text-align: right;\">\n",
       "      <th></th>\n",
       "      <th>reviews</th>\n",
       "      <th>verified trip</th>\n",
       "      <th>sentiments</th>\n",
       "    </tr>\n",
       "  </thead>\n",
       "  <tbody>\n",
       "    <tr>\n",
       "      <th>2190</th>\n",
       "      <td>Check-in at Singapore Airport is carried out i...</td>\n",
       "      <td>0</td>\n",
       "      <td>very-positive</td>\n",
       "    </tr>\n",
       "  </tbody>\n",
       "</table>\n",
       "</div>"
      ],
      "text/plain": [
       "                                                reviews  verified trip  \\\n",
       "2190  Check-in at Singapore Airport is carried out i...              0   \n",
       "\n",
       "         sentiments  \n",
       "2190  very-positive  "
      ]
     },
     "execution_count": 40,
     "metadata": {},
     "output_type": "execute_result"
    }
   ],
   "source": [
    "df.sample()"
   ]
  },
  {
   "cell_type": "code",
   "execution_count": 41,
   "id": "6f16fed4-ca09-4a04-acaa-b451b2d7700d",
   "metadata": {},
   "outputs": [],
   "source": [
    "df.to_csv('data/BA_Cleaned_review.csv',index = False)"
   ]
  },
  {
   "cell_type": "code",
   "execution_count": null,
   "id": "b158d478-7ba0-45a7-8f77-70e8e8f97370",
   "metadata": {},
   "outputs": [],
   "source": []
  }
 ],
 "metadata": {
  "kernelspec": {
   "display_name": "Python 3 (ipykernel)",
   "language": "python",
   "name": "python3"
  },
  "language_info": {
   "codemirror_mode": {
    "name": "ipython",
    "version": 3
   },
   "file_extension": ".py",
   "mimetype": "text/x-python",
   "name": "python",
   "nbconvert_exporter": "python",
   "pygments_lexer": "ipython3",
   "version": "3.12.4"
  }
 },
 "nbformat": 4,
 "nbformat_minor": 5
}
