{
 "cells": [
  {
   "cell_type": "code",
   "execution_count": 3,
   "id": "f29f85e0-60a9-41ac-9fa2-325f4eafee52",
   "metadata": {},
   "outputs": [],
   "source": [
    "import requests\n",
    "from bs4 import BeautifulSoup\n",
    "import pandas as pd"
   ]
  },
  {
   "cell_type": "code",
   "execution_count": 6,
   "id": "a762851f-572f-4311-8e7c-15ef41e84e2f",
   "metadata": {},
   "outputs": [
    {
     "name": "stdout",
     "output_type": "stream",
     "text": [
      "scraping page NO. 1\n",
      "   ---> 150 total reviews\n",
      "scraping page NO. 2\n",
      "   ---> 300 total reviews\n",
      "scraping page NO. 3\n",
      "   ---> 450 total reviews\n",
      "scraping page NO. 4\n",
      "   ---> 600 total reviews\n",
      "scraping page NO. 5\n",
      "   ---> 750 total reviews\n",
      "scraping page NO. 6\n",
      "   ---> 900 total reviews\n",
      "scraping page NO. 7\n",
      "   ---> 1050 total reviews\n",
      "scraping page NO. 8\n",
      "   ---> 1200 total reviews\n",
      "scraping page NO. 9\n",
      "   ---> 1350 total reviews\n",
      "scraping page NO. 10\n",
      "   ---> 1500 total reviews\n",
      "scraping page NO. 11\n",
      "   ---> 1650 total reviews\n",
      "scraping page NO. 12\n",
      "   ---> 1800 total reviews\n",
      "scraping page NO. 13\n",
      "   ---> 1950 total reviews\n",
      "scraping page NO. 14\n",
      "   ---> 2100 total reviews\n",
      "scraping page NO. 15\n",
      "   ---> 2250 total reviews\n"
     ]
    }
   ],
   "source": [
    "base_url = \"https://www.airlinequality.com/airline-reviews/british-airways\"\n",
    "page  = 15\n",
    "page_size = 150\n",
    "\n",
    "reviews = []\n",
    "for i in range(1,page+1):\n",
    "    print(f\"scraping page NO. {i}\")\n",
    "    \n",
    "    url  = f\"{base_url}/page/{i}/?shortby=post_date%3ADesc&pagesize={page_size}\"\n",
    "\n",
    "    #collection of HTML data\n",
    "    response = requests.get(url)\n",
    "\n",
    "    #parse content\n",
    "    content = response.content\n",
    "    parsed_content = BeautifulSoup(content,'html.parser')\n",
    "    for para in parsed_content.find_all(\"div\",{\"class\":\"text_content\"}):\n",
    "        reviews.append(para.get_text())\n",
    "    \n",
    "    print(f\"   ---> {len(reviews)} total reviews\")"
   ]
  },
  {
   "cell_type": "code",
   "execution_count": 7,
   "id": "9c5aaeb5-a996-4ca1-98d7-bee29f6a85de",
   "metadata": {},
   "outputs": [],
   "source": [
    "df = pd.DataFrame()\n",
    "df['reviews'] = reviews"
   ]
  },
  {
   "cell_type": "code",
   "execution_count": 8,
   "id": "45a93b5a-9fc3-4404-a593-1da252d462f6",
   "metadata": {},
   "outputs": [
    {
     "data": {
      "text/html": [
       "<div>\n",
       "<style scoped>\n",
       "    .dataframe tbody tr th:only-of-type {\n",
       "        vertical-align: middle;\n",
       "    }\n",
       "\n",
       "    .dataframe tbody tr th {\n",
       "        vertical-align: top;\n",
       "    }\n",
       "\n",
       "    .dataframe thead th {\n",
       "        text-align: right;\n",
       "    }\n",
       "</style>\n",
       "<table border=\"1\" class=\"dataframe\">\n",
       "  <thead>\n",
       "    <tr style=\"text-align: right;\">\n",
       "      <th></th>\n",
       "      <th>reviews</th>\n",
       "    </tr>\n",
       "  </thead>\n",
       "  <tbody>\n",
       "    <tr>\n",
       "      <th>1851</th>\n",
       "      <td>❎ Unverified |  Rome to Heathrow. Having used ...</td>\n",
       "    </tr>\n",
       "    <tr>\n",
       "      <th>876</th>\n",
       "      <td>✅ Trip Verified |  Gatwick to Tirana. I was in...</td>\n",
       "    </tr>\n",
       "    <tr>\n",
       "      <th>1067</th>\n",
       "      <td>✅ Trip Verified |  I would like to praise the ...</td>\n",
       "    </tr>\n",
       "    <tr>\n",
       "      <th>106</th>\n",
       "      <td>Not Verified |   On March 1st, I flew from Ber...</td>\n",
       "    </tr>\n",
       "  </tbody>\n",
       "</table>\n",
       "</div>"
      ],
      "text/plain": [
       "                                                reviews\n",
       "1851  ❎ Unverified |  Rome to Heathrow. Having used ...\n",
       "876   ✅ Trip Verified |  Gatwick to Tirana. I was in...\n",
       "1067  ✅ Trip Verified |  I would like to praise the ...\n",
       "106   Not Verified |   On March 1st, I flew from Ber..."
      ]
     },
     "execution_count": 8,
     "metadata": {},
     "output_type": "execute_result"
    }
   ],
   "source": [
    "df.sample(4)"
   ]
  },
  {
   "cell_type": "code",
   "execution_count": 9,
   "id": "7d0c1fc7-68b3-40b5-a485-6f8296130094",
   "metadata": {},
   "outputs": [
    {
     "data": {
      "text/plain": [
       "(2250, 1)"
      ]
     },
     "execution_count": 9,
     "metadata": {},
     "output_type": "execute_result"
    }
   ],
   "source": [
    "df.shape"
   ]
  },
  {
   "cell_type": "code",
   "execution_count": 10,
   "id": "2d89068c-8400-4a29-aa90-89bdddd35492",
   "metadata": {},
   "outputs": [],
   "source": [
    "df.to_csv('ReviewsDATA.csv')"
   ]
  },
  {
   "cell_type": "code",
   "execution_count": 13,
   "id": "300feec4-754e-4703-aa33-2c2dad9a0a57",
   "metadata": {},
   "outputs": [
    {
     "name": "stdout",
     "output_type": "stream",
     "text": [
      "1898 verified reviews\n"
     ]
    }
   ],
   "source": [
    "r = df['reviews']\n",
    "c = 0\n",
    "for i in r:\n",
    "    if '✅' in i:\n",
    "        c+=1\n",
    "print(f'{c} verified reviews')"
   ]
  },
  {
   "cell_type": "code",
   "execution_count": null,
   "id": "1d15c531-7556-46e5-96ab-827b067dbc04",
   "metadata": {},
   "outputs": [],
   "source": []
  }
 ],
 "metadata": {
  "kernelspec": {
   "display_name": "Python 3 (ipykernel)",
   "language": "python",
   "name": "python3"
  },
  "language_info": {
   "codemirror_mode": {
    "name": "ipython",
    "version": 3
   },
   "file_extension": ".py",
   "mimetype": "text/x-python",
   "name": "python",
   "nbconvert_exporter": "python",
   "pygments_lexer": "ipython3",
   "version": "3.12.4"
  }
 },
 "nbformat": 4,
 "nbformat_minor": 5
}
